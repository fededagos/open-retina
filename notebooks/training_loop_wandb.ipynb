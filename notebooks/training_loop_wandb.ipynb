{
 "cells": [
  {
   "cell_type": "code",
   "execution_count": 1,
   "metadata": {},
   "outputs": [],
   "source": [
    "import os\n",
    "import pickle\n",
    "\n",
    "import matplotlib.pyplot as plt\n",
    "import seaborn as sns\n",
    "import torch\n",
    "from openretina.h5_handling import load_h5_into_dict\n",
    "from openretina.hoefling_2022_configs import model_config, trainer_config\n",
    "from openretina.hoefling_2022_data_io import natmov_dataloaders_v2\n",
    "from openretina.hoefling_2022_models import SFB3d_core_SxF3d_readout\n",
    "from openretina.misc import CustomPrettyPrinter\n",
    "from openretina.neuron_data_io import make_final_responses\n",
    "from openretina.training import standard_early_stop_trainer as trainer\n",
    "\n",
    "import wandb\n",
    "\n",
    "%load_ext autoreload\n",
    "%autoreload 2\n",
    "\n",
    "%matplotlib inline\n",
    "%config InlineBackend.figure_format = 'retina'\n",
    "\n",
    "pp = CustomPrettyPrinter(indent=4, max_lines=40)"
   ]
  },
  {
   "cell_type": "code",
   "execution_count": 2,
   "metadata": {},
   "outputs": [
    {
     "name": "stderr",
     "output_type": "stream",
     "text": [
      "Failed to detect the name of this notebook, you can set it manually with the WANDB_NOTEBOOK_NAME environment variable to enable code saving.\n",
      "\u001b[34m\u001b[1mwandb\u001b[0m: Currently logged in as: \u001b[33mfede_dagos\u001b[0m. Use \u001b[1m`wandb login --relogin`\u001b[0m to force relogin\n"
     ]
    },
    {
     "data": {
      "text/html": [
       "wandb version 0.16.6 is available!  To upgrade, please run:\n",
       " $ pip install wandb --upgrade"
      ],
      "text/plain": [
       "<IPython.core.display.HTML object>"
      ]
     },
     "metadata": {},
     "output_type": "display_data"
    },
    {
     "data": {
      "text/html": [
       "Tracking run with wandb version 0.16.0"
      ],
      "text/plain": [
       "<IPython.core.display.HTML object>"
      ]
     },
     "metadata": {},
     "output_type": "display_data"
    },
    {
     "data": {
      "text/html": [
       "Run data is saved locally in <code>/Projects/open-retina/notebooks/wandb/run-20240426_120924-a2ikad6d</code>"
      ],
      "text/plain": [
       "<IPython.core.display.HTML object>"
      ]
     },
     "metadata": {},
     "output_type": "display_data"
    },
    {
     "data": {
      "text/html": [
       "Syncing run <strong><a href='https://wandb.ai/fede_dagos/hoefling_2022_reproduction/runs/a2ikad6d' target=\"_blank\">charmed-pond-4</a></strong> to <a href='https://wandb.ai/fede_dagos/hoefling_2022_reproduction' target=\"_blank\">Weights & Biases</a> (<a href='https://wandb.me/run' target=\"_blank\">docs</a>)<br/>"
      ],
      "text/plain": [
       "<IPython.core.display.HTML object>"
      ]
     },
     "metadata": {},
     "output_type": "display_data"
    },
    {
     "data": {
      "text/html": [
       " View project at <a href='https://wandb.ai/fede_dagos/hoefling_2022_reproduction' target=\"_blank\">https://wandb.ai/fede_dagos/hoefling_2022_reproduction</a>"
      ],
      "text/plain": [
       "<IPython.core.display.HTML object>"
      ]
     },
     "metadata": {},
     "output_type": "display_data"
    },
    {
     "data": {
      "text/html": [
       " View run at <a href='https://wandb.ai/fede_dagos/hoefling_2022_reproduction/runs/a2ikad6d' target=\"_blank\">https://wandb.ai/fede_dagos/hoefling_2022_reproduction/runs/a2ikad6d</a>"
      ],
      "text/plain": [
       "<IPython.core.display.HTML object>"
      ]
     },
     "metadata": {},
     "output_type": "display_data"
    }
   ],
   "source": [
    "wandb.login()\n",
    "run = wandb.init(\n",
    "    project=\"hoefling_2022_reproduction\",\n",
    "    notes=\"Testing new sampler bounds without clip reordering.\",\n",
    "    tags=None,\n",
    "    job_type=None,\n",
    "    name=None,\n",
    ")\n",
    "\n",
    "wandb.config.update({**model_config, **trainer_config})"
   ]
  },
  {
   "cell_type": "code",
   "execution_count": 3,
   "metadata": {},
   "outputs": [
    {
     "name": "stdout",
     "output_type": "stream",
     "text": [
      "2024-01-11_movies_dict_8c18928.pkl\n",
      "2024-01-11_movies_dict_c285329.pkl\n",
      "2024-01-11_neuron_data_stim_8c18928_responses_99c71a0.pkl\n",
      "2024-01-11_neuron_data_stim_c285329_responses_0698360.pkl\n",
      "2024-01-11_neuron_data_stim_c285329_responses_483c12d.pkl\n",
      "2024-03-22_neuron_data_stim_c285329_responses_483c12d.h5\n",
      "2024-03-25_neuron_data_responses_484c12d_djimaging.h5\n",
      "2024-03-27_neuron_data_stim_c285329_responses_483c12d.h5\n",
      "2024-03-28_neuron_data_responses_484c12d_djimaging.h5\n",
      "RGC_Chirp_30Hz_18_16.pickle\n",
      "RGC_MovingBar_30Hz_18_16.pickle\n",
      "figures\n",
      "models\n",
      "movies_8c18928.pkl\n",
      "movies_c285329.pkl\n"
     ]
    }
   ],
   "source": [
    "!ls /Data/fd_export"
   ]
  },
  {
   "cell_type": "code",
   "execution_count": 4,
   "metadata": {},
   "outputs": [
    {
     "data": {
      "application/vnd.jupyter.widget-view+json": {
       "model_id": "96534fdac5ab4713b7f0691c81e53a65",
       "version_major": 2,
       "version_minor": 0
      },
      "text/plain": [
       "Loading HDF5 file contents:   0%|          | 0/1474 [00:00<?, ?item/s]"
      ]
     },
     "metadata": {},
     "output_type": "display_data"
    }
   ],
   "source": [
    "base_folder = \"/Data/fd_export\"\n",
    "data_path = os.path.join(base_folder, \"2024-03-28_neuron_data_responses_484c12d_djimaging.h5\")\n",
    "movies_path = os.path.join(base_folder, \"2024-01-11_movies_dict_8c18928.pkl\")\n",
    "responses = load_h5_into_dict(data_path)\n",
    "movies_dict = pickle.load(open(movies_path, \"rb\"))"
   ]
  },
  {
   "cell_type": "code",
   "execution_count": 5,
   "metadata": {},
   "outputs": [
    {
     "data": {
      "application/vnd.jupyter.widget-view+json": {
       "model_id": "d5f9c222b7a44f5b91f061f3c44b2012",
       "version_major": 2,
       "version_minor": 0
      },
      "text/plain": [
       "Upsampling natural traces to get final responses.:   0%|          | 0/67 [00:00<?, ?it/s]"
      ]
     },
     "metadata": {},
     "output_type": "display_data"
    },
    {
     "data": {
      "application/vnd.jupyter.widget-view+json": {
       "model_id": "71a470883b4147bd9b2414f3c33f48e7",
       "version_major": 2,
       "version_minor": 0
      },
      "text/plain": [
       "Creating movie dataloaders:   0%|          | 0/67 [00:00<?, ?it/s]"
      ]
     },
     "metadata": {},
     "output_type": "display_data"
    }
   ],
   "source": [
    "movie_data_dict = make_final_responses(responses, response_type=\"natural\")\n",
    "dataloaders = natmov_dataloaders_v2(\n",
    "    movie_data_dict, movies_dict, seed=1000, use_base_sequence=False\n",
    ")"
   ]
  },
  {
   "cell_type": "code",
   "execution_count": 6,
   "metadata": {},
   "outputs": [
    {
     "name": "stdout",
     "output_type": "stream",
     "text": [
      "{'session_1_ventral1_20200226': {'inputs': torch.Size([32, 2, 50, 18, 16]), 'targets': torch.Size([32, 50, 131])}, 'session_1_ventral1_20200528': {'inputs': torch.Size([32, 2, 50, 18, 16]), 'targets': torch.Size([32, 50, 105])}, 'session_1_ventral1_20200707': {'inputs': torch.Size([32, 2, 50, 18, 16]), 'targets': torch.Size([32, 50, 171])}, 'session_1_ventral1_20201021': {'inputs': torch.Size([32, 2, 50, 18, 16]), 'targets': torch.Size([32, 50, 133])}, 'session_1_ventral1_20201030': {'inputs': torch.Size([32, 2, 50, 18, 16]), 'targets': torch.Size([32, 50, 105])}, 'session_1_ventral1_20210929': {'inputs': torch.Size([32, 2, 50, 18, 16]), 'targets': torch.Size([32, 50, 120])}, 'session_1_ventral1_20210930': {'inputs': torch.Size([32, 2, 50, 18, 16]), 'targets': torch.Size([32, 50, 107])}, 'session_1_ventral2_20200302': {'inputs': torch.Size([32, 2, 50, 18, 16]), 'targets': torch.Size([32, 50, 121])}, 'session_1_ventral2_20200707': {'inputs': torch.Size([32, 2, 50, 18, 16]), 'targets': torch.Size([32, 50, 159])}, 'session_1_ventral2_20201021': {'inputs': torch.Size([32, 2, 50, 18, 16]), 'targets': torch.Size([32, 50, 126])}, 'session_1_ventral2_20201022': {'inputs': torch.Size([32, 2, 50, 18, 16]), 'targets': torch.Size([32, 50, 133])}, 'session_1_ventral2_20201030': {'inputs': torch.Size([32, 2, 50, 18, 16]), 'targets': torch.Size([32, 50, 125])}, 'session_1_ventral2_20201117': {'inputs': torch.Size([32, 2, 50, 18, 16]), 'targets': torch.Size([32, 50, 114])}, 'session_1_ventral2_20210910': {'inputs': torch.Size([32, 2, 50, 18, 16]), 'targets': torch.Size([32, 50, 122])}, 'session_1_ventral2_20210921': {'inputs': torch.Size([32, 2, 50, 18, 16]), 'targets': torch.Size([32, 50, 109])}, 'session_1_ventral2_20210929': {'inputs': torch.Size([32, 2, 50, 18, 16]), 'targets': torch.Size([32, 50, 133])}, 'session_1_ventral2_20210930': {'inputs': torch.Size([32, 2, 50, 18, 16]), 'targets': torch.Size([32, 50, 112])}, 'session_1_ventral2_20211130': {'inputs': torch.Size([32, 2, 50, 18, 16]), 'targets': torch.Size([32, 50, 120])}, 'session_2_ventral1_20200226': {'inputs': torch.Size([32, 2, 50, 18, 16]), 'targets': torch.Size([32, 50, 120])}, 'session_2_ventral1_20200303': {'inputs': torch.Size([32, 2, 50, 18, 16]), 'targets': torch.Size([32, 50, 131])}, 'session_2_ventral1_20200528': {'inputs': torch.Size([32, 2, 50, 18, 16]), 'targets': torch.Size([32, 50, 93])}, 'session_2_ventral1_20200529': {'inputs': torch.Size([32, 2, 50, 18, 16]), 'targets': torch.Size([32, 50, 92])}, 'session_2_ventral1_20200701': {'inputs': torch.Size([32, 2, 50, 18, 16]), 'targets': torch.Size([32, 50, 146])}, 'session_2_ventral1_20201021': {'inputs': torch.Size([32, 2, 50, 18, 16]), 'targets': torch.Size([32, 50, 130])}, 'session_2_ventral1_20201030': {'inputs': torch.Size([32, 2, 50, 18, 16]), 'targets': torch.Size([32, 50, 132])}, 'session_2_ventral1_20210929': {'inputs': torch.Size([32, 2, 50, 18, 16]), 'targets': torch.Size([32, 50, 125])}, 'session_2_ventral2_20200303': {'inputs': torch.Size([32, 2, 50, 18, 16]), 'targets': torch.Size([32, 50, 125])}, 'session_2_ventral2_20201016': {'inputs': torch.Size([32, 2, 50, 18, 16]), 'targets': torch.Size([32, 50, 116])}, 'session_2_ventral2_20201021': {'inputs': torch.Size([32, 2, 50, 18, 16]), 'targets': torch.Size([32, 50, 115])}, 'session_2_ventral2_20201022': {'inputs': torch.Size([32, 2, 50, 18, 16]), 'targets': torch.Size([32, 50, 137])}, 'session_2_ventral2_20201030': {'inputs': torch.Size([32, 2, 50, 18, 16]), 'targets': torch.Size([32, 50, 143])}, 'session_2_ventral2_20201117': {'inputs': torch.Size([32, 2, 50, 18, 16]), 'targets': torch.Size([32, 50, 137])}, 'session_2_ventral2_20210910': {'inputs': torch.Size([32, 2, 50, 18, 16]), 'targets': torch.Size([32, 50, 115])}, 'session_2_ventral2_20210921': {'inputs': torch.Size([32, 2, 50, 18, 16]), 'targets': torch.Size([32, 50, 108])}, 'session_2_ventral2_20210929': {'inputs': torch.Size([32, 2, 50, 18, 16]), 'targets': torch.Size([32, 50, 99])}, 'session_2_ventral2_20210930': {'inputs': torch.Size([32, 2, 50, 18, 16]), 'targets': torch.Size([32, 50, 103])}, 'session_2_ventral2_20211130': {'inputs': torch.Size([32, 2, 50, 18, 16]), 'targets': torch.Size([32, 50, 78])}, 'session_3_ventral1_20200226': {'inputs': torch.Size([32, 2, 50, 18, 16]), 'targets': torch.Size([32, 50, 121])}, 'session_3_ventral1_20200303': {'inputs': torch.Size([32, 2, 50, 18, 16]), 'targets': torch.Size([32, 50, 116])}, 'session_3_ventral1_20200529': {'inputs': torch.Size([32, 2, 50, 18, 16]), 'targets': torch.Size([32, 50, 105])}, 'session_3_ventral1_20201021': {'inputs': torch.Size([32, 2, 50, 18, 16]), 'targets': torch.Size([32, 50, 136])}, 'session_3_ventral1_20201030': {'inputs': torch.Size([32, 2, 50, 18, 16]), 'targets': torch.Size([32, 50, 113])}, 'session_3_ventral2_20200302': {'inputs': torch.Size([32, 2, 50, 18, 16]), 'targets': torch.Size([32, 50, 99])}, 'session_3_ventral2_20200701': {'inputs': torch.Size([32, 2, 50, 18, 16]), 'targets': torch.Size([32, 50, 147])}, 'session_3_ventral2_20200707': {'inputs': torch.Size([32, 2, 50, 18, 16]), 'targets': torch.Size([32, 50, 176])}, 'session_3_ventral2_20201022': {'inputs': torch.Size([32, 2, 50, 18, 16]), 'targets': torch.Size([32, 50, 120])}, 'session_3_ventral2_20201117': {'inputs': torch.Size([32, 2, 50, 18, 16]), 'targets': torch.Size([32, 50, 109])}, 'session_3_ventral2_20210910': {'inputs': torch.Size([32, 2, 50, 18, 16]), 'targets': torch.Size([32, 50, 116])}, 'session_3_ventral2_20210921': {'inputs': torch.Size([32, 2, 50, 18, 16]), 'targets': torch.Size([32, 50, 120])}, 'session_3_ventral2_20210929': {'inputs': torch.Size([32, 2, 50, 18, 16]), 'targets': torch.Size([32, 50, 116])}, 'session_3_ventral2_20210930': {'inputs': torch.Size([32, 2, 50, 18, 16]), 'targets': torch.Size([32, 50, 82])}, 'session_3_ventral2_20211130': {'inputs': torch.Size([32, 2, 50, 18, 16]), 'targets': torch.Size([32, 50, 102])}, 'session_4_ventral1_20201021': {'inputs': torch.Size([32, 2, 50, 18, 16]), 'targets': torch.Size([32, 50, 132])}, 'session_4_ventral1_20201030': {'inputs': torch.Size([32, 2, 50, 18, 16]), 'targets': torch.Size([32, 50, 24])}, 'session_4_ventral2_20200303': {'inputs': torch.Size([32, 2, 50, 18, 16]), 'targets': torch.Size([32, 50, 121])}, 'session_4_ventral2_20200707': {'inputs': torch.Size([32, 2, 50, 18, 16]), 'targets': torch.Size([32, 50, 173])}, 'session_4_ventral2_20201022': {'inputs': torch.Size([32, 2, 50, 18, 16]), 'targets': torch.Size([32, 50, 128])}, 'session_4_ventral2_20210910': {'inputs': torch.Size([32, 2, 50, 18, 16]), 'targets': torch.Size([32, 50, 75])}, 'session_4_ventral2_20210921': {'inputs': torch.Size([32, 2, 50, 18, 16]), 'targets': torch.Size([32, 50, 115])}, 'session_4_ventral2_20210929': {'inputs': torch.Size([32, 2, 50, 18, 16]), 'targets': torch.Size([32, 50, 93])}, 'session_4_ventral2_20211130': {'inputs': torch.Size([32, 2, 50, 18, 16]), 'targets': torch.Size([32, 50, 117])}, 'session_5_ventral1_20200226': {'inputs': torch.Size([32, 2, 50, 18, 16]), 'targets': torch.Size([32, 50, 101])}, 'session_5_ventral2_20200303': {'inputs': torch.Size([32, 2, 50, 18, 16]), 'targets': torch.Size([32, 50, 119])}, 'session_5_ventral2_20210910': {'inputs': torch.Size([32, 2, 50, 18, 16]), 'targets': torch.Size([32, 50, 82])}, 'session_5_ventral2_20210921': {'inputs': torch.Size([32, 2, 50, 18, 16]), 'targets': torch.Size([32, 50, 108])}, 'session_5_ventral2_20210929': {'inputs': torch.Size([32, 2, 50, 18, 16]), 'targets': torch.Size([32, 50, 113])}, 'session_6_ventral2_20210921': {'inputs': torch.Size([32, 2, 50, 18, 16]), 'targets': torch.Size([32, 50, 93])}}\n",
      "Random seed 42 has been set.\n"
     ]
    }
   ],
   "source": [
    "model = SFB3d_core_SxF3d_readout(**model_config, dataloaders=dataloaders, seed=42)"
   ]
  },
  {
   "cell_type": "code",
   "execution_count": 7,
   "metadata": {},
   "outputs": [
    {
     "name": "stdout",
     "output_type": "stream",
     "text": [
      "Random seed 1000 has been set.\n"
     ]
    },
    {
     "data": {
      "application/vnd.jupyter.widget-view+json": {
       "model_id": "d78a96cca4164920bf9596cebe697a73",
       "version_major": 2,
       "version_minor": 0
      },
      "text/plain": [
       "Epochs:   0%|          | 0/500 [00:00<?, ?it/s]"
      ]
     },
     "metadata": {},
     "output_type": "display_data"
    }
   ],
   "source": [
    "test_score, val_score, output, model_state = trainer(\n",
    "    model=model,\n",
    "    dataloaders=dataloaders,\n",
    "    seed=1000,\n",
    "    **trainer_config,\n",
    "    wandb_logger=run,\n",
    ")"
   ]
  },
  {
   "cell_type": "code",
   "execution_count": 8,
   "metadata": {},
   "outputs": [
    {
     "data": {
      "text/plain": [
       "0.424174469663156"
      ]
     },
     "execution_count": 8,
     "metadata": {},
     "output_type": "execute_result"
    }
   ],
   "source": [
    "test_score"
   ]
  },
  {
   "cell_type": "code",
   "execution_count": 9,
   "metadata": {},
   "outputs": [
    {
     "data": {
      "text/plain": [
       "0.24707160256191865"
      ]
     },
     "execution_count": 9,
     "metadata": {},
     "output_type": "execute_result"
    }
   ],
   "source": [
    "val_score"
   ]
  },
  {
   "cell_type": "code",
   "execution_count": 10,
   "metadata": {},
   "outputs": [
    {
     "data": {
      "text/plain": [
       "[<matplotlib.lines.Line2D at 0x7f254555fe20>]"
      ]
     },
     "execution_count": 10,
     "metadata": {},
     "output_type": "execute_result"
    },
    {
     "data": {
      "image/png": "[encoded data removed]",
      "text/plain": [
       "<Figure size 640x480 with 1 Axes>"
      ]
     },
     "metadata": {
      "image/png": {
       "height": 413,
       "width": 556
      }
     },
     "output_type": "display_data"
    }
   ],
   "source": [
    "plt.plot(output[\"val_correlation\"])"
   ]
  },
  {
   "cell_type": "code",
   "execution_count": 11,
   "metadata": {},
   "outputs": [],
   "source": [
    "val_field = \"session_1_ventral1_20200226\"\n",
    "val_sample = next(iter(dataloaders[\"validation\"][val_field]))"
   ]
  },
  {
   "cell_type": "code",
   "execution_count": 12,
   "metadata": {},
   "outputs": [],
   "source": [
    "input_samples = val_sample.inputs\n",
    "targets = val_sample.targets"
   ]
  },
  {
   "cell_type": "code",
   "execution_count": 13,
   "metadata": {},
   "outputs": [
    {
     "data": {
      "text/plain": [
       "torch.Size([15, 2, 150, 18, 16])"
      ]
     },
     "execution_count": 13,
     "metadata": {},
     "output_type": "execute_result"
    }
   ],
   "source": [
    "input_samples.shape"
   ]
  },
  {
   "cell_type": "code",
   "execution_count": 14,
   "metadata": {},
   "outputs": [],
   "source": [
    "with torch.no_grad():\n",
    "    reconstructions = model(input_samples.to(\"cuda:0\"), val_field)"
   ]
  },
  {
   "cell_type": "code",
   "execution_count": 15,
   "metadata": {},
   "outputs": [],
   "source": [
    "reconstructions = reconstructions.cpu().numpy().squeeze()\n",
    "targets = targets.cpu().numpy().squeeze()"
   ]
  },
  {
   "cell_type": "code",
   "execution_count": 16,
   "metadata": {},
   "outputs": [
    {
     "data": {
      "text/plain": [
       "(15, 150, 131)"
      ]
     },
     "execution_count": 16,
     "metadata": {},
     "output_type": "execute_result"
    }
   ],
   "source": [
    "targets.shape"
   ]
  },
  {
   "cell_type": "code",
   "execution_count": 17,
   "metadata": {},
   "outputs": [
    {
     "data": {
      "text/plain": [
       "(15, 120, 131)"
      ]
     },
     "execution_count": 17,
     "metadata": {},
     "output_type": "execute_result"
    }
   ],
   "source": [
    "reconstructions.shape"
   ]
  },
  {
   "cell_type": "code",
   "execution_count": 18,
   "metadata": {},
   "outputs": [
    {
     "name": "stderr",
     "output_type": "stream",
     "text": [
      "/opt/conda/lib/python3.10/site-packages/plotly/matplotlylib/renderer.py:612: UserWarning:\n",
      "\n",
      "I found a path object that I don't think is part of a bar chart. Ignoring.\n",
      "\n"
     ]
    },
    {
     "data": {
      "text/plain": [
       "<Figure size 640x480 with 0 Axes>"
      ]
     },
     "metadata": {},
     "output_type": "display_data"
    }
   ],
   "source": [
    "# Your existing code for plotting\n",
    "neuron = 1\n",
    "fig, axes = plt.subplots(3, 5, figsize=(20, 5), sharey=\"row\", sharex=\"col\")\n",
    "for trace_chunk in range(targets.shape[0]):\n",
    "    ax_idx_1 = trace_chunk // 5\n",
    "    ax_idx_2 = trace_chunk % 5\n",
    "    ax = axes[ax_idx_1, ax_idx_2]\n",
    "    ax.plot(targets[trace_chunk, 30:, neuron], label=\"target\")\n",
    "    ax.plot(reconstructions[trace_chunk, :, neuron], label=\"prediction\")\n",
    "\n",
    "    # Set x and y labels for only outer subplots\n",
    "    if ax_idx_1 == 2:  # Bottom row\n",
    "        ax.set_xlabel(\"Frames\")\n",
    "    if ax_idx_2 == 0:  # Leftmost column\n",
    "        ax.set_ylabel(\"Firing rate\")\n",
    "\n",
    "    # # Remove inner labels\n",
    "    # if ax_idx_1 != 2:\n",
    "    #     ax.set_xticklabels([])\n",
    "    # if ax_idx_2 != 0:\n",
    "    #     ax.set_yticklabels([])\n",
    "    # Only turn on x-axis labels for the bottom row\n",
    "    if ax_idx_1 == 2:\n",
    "        ax.tick_params(labelbottom=True)\n",
    "    else:\n",
    "        ax.tick_params(labelbottom=False)\n",
    "\n",
    "    # Only turn on y-axis labels for the leftmost column\n",
    "    if ax_idx_2 == 0:\n",
    "        ax.tick_params(labelleft=True)\n",
    "    else:\n",
    "        ax.tick_params(labelleft=False)\n",
    "\n",
    "# Place the legend outside of the subplots\n",
    "axes[0, 0].legend()\n",
    "\n",
    "sns.despine()\n",
    "\n",
    "wandb.log({\"reconstruction\": fig})\n",
    "plt.tight_layout()"
   ]
  },
  {
   "cell_type": "code",
   "execution_count": 19,
   "metadata": {},
   "outputs": [
    {
     "data": {
      "application/vnd.jupyter.widget-view+json": {
       "model_id": "15839bead0a342b9b20f81a057442479",
       "version_major": 2,
       "version_minor": 0
      },
      "text/plain": [
       "VBox(children=(Label(value='0.118 MB of 0.118 MB uploaded\\r'), FloatProgress(value=1.0, max=1.0)))"
      ]
     },
     "metadata": {},
     "output_type": "display_data"
    },
    {
     "name": "stderr",
     "output_type": "stream",
     "text": [
      "wandb: WARNING Source type is set to 'repo' but some required information is missing from the environment. A job will not be created from this run. See https://docs.wandb.ai/guides/launch/create-job\n"
     ]
    },
    {
     "data": {
      "text/html": [
       "<style>\n",
       "    table.wandb td:nth-child(1) { padding: 0 10px; text-align: left ; width: auto;} td:nth-child(2) {text-align: left ; width: 100%}\n",
       "    .wandb-row { display: flex; flex-direction: row; flex-wrap: wrap; justify-content: flex-start; width: 100% }\n",
       "    .wandb-col { display: flex; flex-direction: column; flex-basis: 100%; flex: 1; padding: 10px; }\n",
       "    </style>\n",
       "<div class=\"wandb-row\"><div class=\"wandb-col\"><h3>Run history:</h3><br/><table class=\"wandb\"><tr><td>epoch</td><td>▁▁▁▁▂▂▂▂▂▃▃▃▃▃▄▄▄▄▄▄▅▅▅▅▅▅▆▆▆▆▆▇▇▇▇▇████</td></tr><tr><td>lr</td><td>█████████████████████████████████▃▃▃▃▃▁▁</td></tr><tr><td>train_loss</td><td>█▇▅▄▄▄▄▃▃▃▃▂▂▂▂▂▂▂▂▂▂▁▁▂▁▁▁▁▁▁▁▁▂▁▁▁▁▁▁▁</td></tr><tr><td>val_MSE_loss</td><td>▆▃▂▅█▃▂▂▂▁▃▂▂▂▂▂▂▃▃▃▂▁▃▃▄▄▃▅▂▁▂▁▅▂▃▃▅▂▂▂</td></tr><tr><td>val_corr</td><td>▁▅▆▆▆▇▇▇▇▇██████████████████████████████</td></tr><tr><td>val_poisson_loss</td><td>█▅▄▄▄▃▂▂▂▂▂▂▂▂▂▂▂▂▂▂▂▁▂▂▂▂▂▂▂▁▁▁▂▂▂▂▂▁▂▂</td></tr></table><br/></div><div class=\"wandb-col\"><h3>Run summary:</h3><br/><table class=\"wandb\"><tr><td>epoch</td><td>46</td></tr><tr><td>lr</td><td>0.0009</td></tr><tr><td>train_loss</td><td>159647.35486</td></tr><tr><td>val_MSE_loss</td><td>1.77169</td></tr><tr><td>val_corr</td><td>0.24232</td></tr><tr><td>val_poisson_loss</td><td>1.28281</td></tr></table><br/></div></div>"
      ],
      "text/plain": [
       "<IPython.core.display.HTML object>"
      ]
     },
     "metadata": {},
     "output_type": "display_data"
    },
    {
     "data": {
      "text/html": [
       " View run <strong style=\"color:#cdcd00\">charmed-pond-4</strong> at: <a href='https://wandb.ai/fede_dagos/hoefling_2022_reproduction/runs/a2ikad6d' target=\"_blank\">https://wandb.ai/fede_dagos/hoefling_2022_reproduction/runs/a2ikad6d</a><br/>Synced 6 W&B file(s), 1 media file(s), 0 artifact file(s) and 0 other file(s)"
      ],
      "text/plain": [
       "<IPython.core.display.HTML object>"
      ]
     },
     "metadata": {},
     "output_type": "display_data"
    },
    {
     "data": {
      "text/html": [
       "Find logs at: <code>./wandb/run-20240426_120924-a2ikad6d/logs</code>"
      ],
      "text/plain": [
       "<IPython.core.display.HTML object>"
      ]
     },
     "metadata": {},
     "output_type": "display_data"
    }
   ],
   "source": [
    "wandb.finish()"
   ]
  },
  {
   "cell_type": "code",
   "execution_count": null,
   "metadata": {},
   "outputs": [],
   "source": []
  }
 ],
 "metadata": {
  "kernelspec": {
   "display_name": "base",
   "language": "python",
   "name": "python3"
  },
  "language_info": {
   "codemirror_mode": {
    "name": "ipython",
    "version": 3
   },
   "file_extension": ".py",
   "mimetype": "text/x-python",
   "name": "python",
   "nbconvert_exporter": "python",
   "pygments_lexer": "ipython3",
   "version": "3.11.4"
  }
 },
 "nbformat": 4,
 "nbformat_minor": 2
}
